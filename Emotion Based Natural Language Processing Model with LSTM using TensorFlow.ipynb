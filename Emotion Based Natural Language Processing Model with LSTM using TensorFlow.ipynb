{
  "nbformat": 4,
  "nbformat_minor": 0,
  "metadata": {
    "colab": {
      "provenance": []
    },
    "kernelspec": {
      "name": "python3",
      "display_name": "Python 3"
    },
    "language_info": {
      "name": "python"
    },
    "accelerator": "GPU",
    "gpuClass": "standard"
  },
  "cells": [
    {
      "cell_type": "markdown",
      "source": [
        "###Project Name : Emotion-based Natural Language Processing (NLP) Model with LSTM using TensorFlow\n",
        "###Project Description : This project aims to implement Natural Language Processing (NLP) using TensorFlow with a focus on emotion datasets. It utilizes a sequential model architecture that integrates LSTM layers to understand and process text containing emotions. The main goal is to improve the understanding of emotional context in text, both for sentiment classification and emotion analysis.\n",
        "###Dataset : Emotion dataset\n",
        "###Tools : Google Colaboratory"
      ],
      "metadata": {
        "id": "F_ZMAm8BqGaP"
      }
    },
    {
      "cell_type": "markdown",
      "source": [
        "Import"
      ],
      "metadata": {
        "id": "9oGHn6VaqSVB"
      }
    },
    {
      "cell_type": "code",
      "execution_count": null,
      "metadata": {
        "id": "33mDCV6wqBSC"
      },
      "outputs": [],
      "source": [
        "import pandas as pd\n",
        "df = pd.read_csv('Emotion_final.csv')"
      ]
    },
    {
      "cell_type": "code",
      "source": [
        "df.head()"
      ],
      "metadata": {
        "colab": {
          "base_uri": "https://localhost:8080/",
          "height": 206
        },
        "id": "fNHwfjCIqq9z",
        "outputId": "3eeb679e-6a22-4b2e-ac3c-b28ed4550667"
      },
      "execution_count": null,
      "outputs": [
        {
          "output_type": "execute_result",
          "data": {
            "text/plain": [
              "                                                Text  Emotion\n",
              "0                            i didnt feel humiliated  sadness\n",
              "1  i can go from feeling so hopeless to so damned...  sadness\n",
              "2   im grabbing a minute to post i feel greedy wrong    anger\n",
              "3  i am ever feeling nostalgic about the fireplac...     love\n",
              "4                               i am feeling grouchy    anger"
            ],
            "text/html": [
              "\n",
              "  <div id=\"df-50c95765-4ffb-4e60-bcff-e82a18e49513\">\n",
              "    <div class=\"colab-df-container\">\n",
              "      <div>\n",
              "<style scoped>\n",
              "    .dataframe tbody tr th:only-of-type {\n",
              "        vertical-align: middle;\n",
              "    }\n",
              "\n",
              "    .dataframe tbody tr th {\n",
              "        vertical-align: top;\n",
              "    }\n",
              "\n",
              "    .dataframe thead th {\n",
              "        text-align: right;\n",
              "    }\n",
              "</style>\n",
              "<table border=\"1\" class=\"dataframe\">\n",
              "  <thead>\n",
              "    <tr style=\"text-align: right;\">\n",
              "      <th></th>\n",
              "      <th>Text</th>\n",
              "      <th>Emotion</th>\n",
              "    </tr>\n",
              "  </thead>\n",
              "  <tbody>\n",
              "    <tr>\n",
              "      <th>0</th>\n",
              "      <td>i didnt feel humiliated</td>\n",
              "      <td>sadness</td>\n",
              "    </tr>\n",
              "    <tr>\n",
              "      <th>1</th>\n",
              "      <td>i can go from feeling so hopeless to so damned...</td>\n",
              "      <td>sadness</td>\n",
              "    </tr>\n",
              "    <tr>\n",
              "      <th>2</th>\n",
              "      <td>im grabbing a minute to post i feel greedy wrong</td>\n",
              "      <td>anger</td>\n",
              "    </tr>\n",
              "    <tr>\n",
              "      <th>3</th>\n",
              "      <td>i am ever feeling nostalgic about the fireplac...</td>\n",
              "      <td>love</td>\n",
              "    </tr>\n",
              "    <tr>\n",
              "      <th>4</th>\n",
              "      <td>i am feeling grouchy</td>\n",
              "      <td>anger</td>\n",
              "    </tr>\n",
              "  </tbody>\n",
              "</table>\n",
              "</div>\n",
              "      <button class=\"colab-df-convert\" onclick=\"convertToInteractive('df-50c95765-4ffb-4e60-bcff-e82a18e49513')\"\n",
              "              title=\"Convert this dataframe to an interactive table.\"\n",
              "              style=\"display:none;\">\n",
              "        \n",
              "  <svg xmlns=\"http://www.w3.org/2000/svg\" height=\"24px\"viewBox=\"0 0 24 24\"\n",
              "       width=\"24px\">\n",
              "    <path d=\"M0 0h24v24H0V0z\" fill=\"none\"/>\n",
              "    <path d=\"M18.56 5.44l.94 2.06.94-2.06 2.06-.94-2.06-.94-.94-2.06-.94 2.06-2.06.94zm-11 1L8.5 8.5l.94-2.06 2.06-.94-2.06-.94L8.5 2.5l-.94 2.06-2.06.94zm10 10l.94 2.06.94-2.06 2.06-.94-2.06-.94-.94-2.06-.94 2.06-2.06.94z\"/><path d=\"M17.41 7.96l-1.37-1.37c-.4-.4-.92-.59-1.43-.59-.52 0-1.04.2-1.43.59L10.3 9.45l-7.72 7.72c-.78.78-.78 2.05 0 2.83L4 21.41c.39.39.9.59 1.41.59.51 0 1.02-.2 1.41-.59l7.78-7.78 2.81-2.81c.8-.78.8-2.07 0-2.86zM5.41 20L4 18.59l7.72-7.72 1.47 1.35L5.41 20z\"/>\n",
              "  </svg>\n",
              "      </button>\n",
              "      \n",
              "  <style>\n",
              "    .colab-df-container {\n",
              "      display:flex;\n",
              "      flex-wrap:wrap;\n",
              "      gap: 12px;\n",
              "    }\n",
              "\n",
              "    .colab-df-convert {\n",
              "      background-color: #E8F0FE;\n",
              "      border: none;\n",
              "      border-radius: 50%;\n",
              "      cursor: pointer;\n",
              "      display: none;\n",
              "      fill: #1967D2;\n",
              "      height: 32px;\n",
              "      padding: 0 0 0 0;\n",
              "      width: 32px;\n",
              "    }\n",
              "\n",
              "    .colab-df-convert:hover {\n",
              "      background-color: #E2EBFA;\n",
              "      box-shadow: 0px 1px 2px rgba(60, 64, 67, 0.3), 0px 1px 3px 1px rgba(60, 64, 67, 0.15);\n",
              "      fill: #174EA6;\n",
              "    }\n",
              "\n",
              "    [theme=dark] .colab-df-convert {\n",
              "      background-color: #3B4455;\n",
              "      fill: #D2E3FC;\n",
              "    }\n",
              "\n",
              "    [theme=dark] .colab-df-convert:hover {\n",
              "      background-color: #434B5C;\n",
              "      box-shadow: 0px 1px 3px 1px rgba(0, 0, 0, 0.15);\n",
              "      filter: drop-shadow(0px 1px 2px rgba(0, 0, 0, 0.3));\n",
              "      fill: #FFFFFF;\n",
              "    }\n",
              "  </style>\n",
              "\n",
              "      <script>\n",
              "        const buttonEl =\n",
              "          document.querySelector('#df-50c95765-4ffb-4e60-bcff-e82a18e49513 button.colab-df-convert');\n",
              "        buttonEl.style.display =\n",
              "          google.colab.kernel.accessAllowed ? 'block' : 'none';\n",
              "\n",
              "        async function convertToInteractive(key) {\n",
              "          const element = document.querySelector('#df-50c95765-4ffb-4e60-bcff-e82a18e49513');\n",
              "          const dataTable =\n",
              "            await google.colab.kernel.invokeFunction('convertToInteractive',\n",
              "                                                     [key], {});\n",
              "          if (!dataTable) return;\n",
              "\n",
              "          const docLinkHtml = 'Like what you see? Visit the ' +\n",
              "            '<a target=\"_blank\" href=https://colab.research.google.com/notebooks/data_table.ipynb>data table notebook</a>'\n",
              "            + ' to learn more about interactive tables.';\n",
              "          element.innerHTML = '';\n",
              "          dataTable['output_type'] = 'display_data';\n",
              "          await google.colab.output.renderOutput(dataTable, element);\n",
              "          const docLink = document.createElement('div');\n",
              "          docLink.innerHTML = docLinkHtml;\n",
              "          element.appendChild(docLink);\n",
              "        }\n",
              "      </script>\n",
              "    </div>\n",
              "  </div>\n",
              "  "
            ]
          },
          "metadata": {},
          "execution_count": 58
        }
      ]
    },
    {
      "cell_type": "markdown",
      "source": [
        "one-hot-encoding dan dataframe baru"
      ],
      "metadata": {
        "id": "EVrRkjdlrfHI"
      }
    },
    {
      "cell_type": "code",
      "source": [
        "category = pd.get_dummies(df.Emotion)\n",
        "df_new = pd.concat([df, category], axis=1)\n",
        "df_new = df_new.drop(columns='Emotion')\n",
        "df_new"
      ],
      "metadata": {
        "colab": {
          "base_uri": "https://localhost:8080/",
          "height": 423
        },
        "id": "oAlyC1MwqxtY",
        "outputId": "923d306e-0a90-4833-ef4d-017817784031"
      },
      "execution_count": null,
      "outputs": [
        {
          "output_type": "execute_result",
          "data": {
            "text/plain": [
              "                                                    Text  anger  fear  happy  \\\n",
              "0                                i didnt feel humiliated      0     0      0   \n",
              "1      i can go from feeling so hopeless to so damned...      0     0      0   \n",
              "2       im grabbing a minute to post i feel greedy wrong      1     0      0   \n",
              "3      i am ever feeling nostalgic about the fireplac...      0     0      0   \n",
              "4                                   i am feeling grouchy      1     0      0   \n",
              "...                                                  ...    ...   ...    ...   \n",
              "21454               Melissa stared at her friend in dism      0     1      0   \n",
              "21455  Successive state elections have seen the gover...      0     1      0   \n",
              "21456               Vincent was irritated but not dismay      0     1      0   \n",
              "21457  Kendall-Hume turned back to face the dismayed ...      0     1      0   \n",
              "21458                    I am dismayed , but not surpris      0     1      0   \n",
              "\n",
              "       love  sadness  surprise  \n",
              "0         0        1         0  \n",
              "1         0        1         0  \n",
              "2         0        0         0  \n",
              "3         1        0         0  \n",
              "4         0        0         0  \n",
              "...     ...      ...       ...  \n",
              "21454     0        0         0  \n",
              "21455     0        0         0  \n",
              "21456     0        0         0  \n",
              "21457     0        0         0  \n",
              "21458     0        0         0  \n",
              "\n",
              "[21459 rows x 7 columns]"
            ],
            "text/html": [
              "\n",
              "  <div id=\"df-9e8389b7-b50a-4a5e-8aee-8ce56e120cee\">\n",
              "    <div class=\"colab-df-container\">\n",
              "      <div>\n",
              "<style scoped>\n",
              "    .dataframe tbody tr th:only-of-type {\n",
              "        vertical-align: middle;\n",
              "    }\n",
              "\n",
              "    .dataframe tbody tr th {\n",
              "        vertical-align: top;\n",
              "    }\n",
              "\n",
              "    .dataframe thead th {\n",
              "        text-align: right;\n",
              "    }\n",
              "</style>\n",
              "<table border=\"1\" class=\"dataframe\">\n",
              "  <thead>\n",
              "    <tr style=\"text-align: right;\">\n",
              "      <th></th>\n",
              "      <th>Text</th>\n",
              "      <th>anger</th>\n",
              "      <th>fear</th>\n",
              "      <th>happy</th>\n",
              "      <th>love</th>\n",
              "      <th>sadness</th>\n",
              "      <th>surprise</th>\n",
              "    </tr>\n",
              "  </thead>\n",
              "  <tbody>\n",
              "    <tr>\n",
              "      <th>0</th>\n",
              "      <td>i didnt feel humiliated</td>\n",
              "      <td>0</td>\n",
              "      <td>0</td>\n",
              "      <td>0</td>\n",
              "      <td>0</td>\n",
              "      <td>1</td>\n",
              "      <td>0</td>\n",
              "    </tr>\n",
              "    <tr>\n",
              "      <th>1</th>\n",
              "      <td>i can go from feeling so hopeless to so damned...</td>\n",
              "      <td>0</td>\n",
              "      <td>0</td>\n",
              "      <td>0</td>\n",
              "      <td>0</td>\n",
              "      <td>1</td>\n",
              "      <td>0</td>\n",
              "    </tr>\n",
              "    <tr>\n",
              "      <th>2</th>\n",
              "      <td>im grabbing a minute to post i feel greedy wrong</td>\n",
              "      <td>1</td>\n",
              "      <td>0</td>\n",
              "      <td>0</td>\n",
              "      <td>0</td>\n",
              "      <td>0</td>\n",
              "      <td>0</td>\n",
              "    </tr>\n",
              "    <tr>\n",
              "      <th>3</th>\n",
              "      <td>i am ever feeling nostalgic about the fireplac...</td>\n",
              "      <td>0</td>\n",
              "      <td>0</td>\n",
              "      <td>0</td>\n",
              "      <td>1</td>\n",
              "      <td>0</td>\n",
              "      <td>0</td>\n",
              "    </tr>\n",
              "    <tr>\n",
              "      <th>4</th>\n",
              "      <td>i am feeling grouchy</td>\n",
              "      <td>1</td>\n",
              "      <td>0</td>\n",
              "      <td>0</td>\n",
              "      <td>0</td>\n",
              "      <td>0</td>\n",
              "      <td>0</td>\n",
              "    </tr>\n",
              "    <tr>\n",
              "      <th>...</th>\n",
              "      <td>...</td>\n",
              "      <td>...</td>\n",
              "      <td>...</td>\n",
              "      <td>...</td>\n",
              "      <td>...</td>\n",
              "      <td>...</td>\n",
              "      <td>...</td>\n",
              "    </tr>\n",
              "    <tr>\n",
              "      <th>21454</th>\n",
              "      <td>Melissa stared at her friend in dism</td>\n",
              "      <td>0</td>\n",
              "      <td>1</td>\n",
              "      <td>0</td>\n",
              "      <td>0</td>\n",
              "      <td>0</td>\n",
              "      <td>0</td>\n",
              "    </tr>\n",
              "    <tr>\n",
              "      <th>21455</th>\n",
              "      <td>Successive state elections have seen the gover...</td>\n",
              "      <td>0</td>\n",
              "      <td>1</td>\n",
              "      <td>0</td>\n",
              "      <td>0</td>\n",
              "      <td>0</td>\n",
              "      <td>0</td>\n",
              "    </tr>\n",
              "    <tr>\n",
              "      <th>21456</th>\n",
              "      <td>Vincent was irritated but not dismay</td>\n",
              "      <td>0</td>\n",
              "      <td>1</td>\n",
              "      <td>0</td>\n",
              "      <td>0</td>\n",
              "      <td>0</td>\n",
              "      <td>0</td>\n",
              "    </tr>\n",
              "    <tr>\n",
              "      <th>21457</th>\n",
              "      <td>Kendall-Hume turned back to face the dismayed ...</td>\n",
              "      <td>0</td>\n",
              "      <td>1</td>\n",
              "      <td>0</td>\n",
              "      <td>0</td>\n",
              "      <td>0</td>\n",
              "      <td>0</td>\n",
              "    </tr>\n",
              "    <tr>\n",
              "      <th>21458</th>\n",
              "      <td>I am dismayed , but not surpris</td>\n",
              "      <td>0</td>\n",
              "      <td>1</td>\n",
              "      <td>0</td>\n",
              "      <td>0</td>\n",
              "      <td>0</td>\n",
              "      <td>0</td>\n",
              "    </tr>\n",
              "  </tbody>\n",
              "</table>\n",
              "<p>21459 rows × 7 columns</p>\n",
              "</div>\n",
              "      <button class=\"colab-df-convert\" onclick=\"convertToInteractive('df-9e8389b7-b50a-4a5e-8aee-8ce56e120cee')\"\n",
              "              title=\"Convert this dataframe to an interactive table.\"\n",
              "              style=\"display:none;\">\n",
              "        \n",
              "  <svg xmlns=\"http://www.w3.org/2000/svg\" height=\"24px\"viewBox=\"0 0 24 24\"\n",
              "       width=\"24px\">\n",
              "    <path d=\"M0 0h24v24H0V0z\" fill=\"none\"/>\n",
              "    <path d=\"M18.56 5.44l.94 2.06.94-2.06 2.06-.94-2.06-.94-.94-2.06-.94 2.06-2.06.94zm-11 1L8.5 8.5l.94-2.06 2.06-.94-2.06-.94L8.5 2.5l-.94 2.06-2.06.94zm10 10l.94 2.06.94-2.06 2.06-.94-2.06-.94-.94-2.06-.94 2.06-2.06.94z\"/><path d=\"M17.41 7.96l-1.37-1.37c-.4-.4-.92-.59-1.43-.59-.52 0-1.04.2-1.43.59L10.3 9.45l-7.72 7.72c-.78.78-.78 2.05 0 2.83L4 21.41c.39.39.9.59 1.41.59.51 0 1.02-.2 1.41-.59l7.78-7.78 2.81-2.81c.8-.78.8-2.07 0-2.86zM5.41 20L4 18.59l7.72-7.72 1.47 1.35L5.41 20z\"/>\n",
              "  </svg>\n",
              "      </button>\n",
              "      \n",
              "  <style>\n",
              "    .colab-df-container {\n",
              "      display:flex;\n",
              "      flex-wrap:wrap;\n",
              "      gap: 12px;\n",
              "    }\n",
              "\n",
              "    .colab-df-convert {\n",
              "      background-color: #E8F0FE;\n",
              "      border: none;\n",
              "      border-radius: 50%;\n",
              "      cursor: pointer;\n",
              "      display: none;\n",
              "      fill: #1967D2;\n",
              "      height: 32px;\n",
              "      padding: 0 0 0 0;\n",
              "      width: 32px;\n",
              "    }\n",
              "\n",
              "    .colab-df-convert:hover {\n",
              "      background-color: #E2EBFA;\n",
              "      box-shadow: 0px 1px 2px rgba(60, 64, 67, 0.3), 0px 1px 3px 1px rgba(60, 64, 67, 0.15);\n",
              "      fill: #174EA6;\n",
              "    }\n",
              "\n",
              "    [theme=dark] .colab-df-convert {\n",
              "      background-color: #3B4455;\n",
              "      fill: #D2E3FC;\n",
              "    }\n",
              "\n",
              "    [theme=dark] .colab-df-convert:hover {\n",
              "      background-color: #434B5C;\n",
              "      box-shadow: 0px 1px 3px 1px rgba(0, 0, 0, 0.15);\n",
              "      filter: drop-shadow(0px 1px 2px rgba(0, 0, 0, 0.3));\n",
              "      fill: #FFFFFF;\n",
              "    }\n",
              "  </style>\n",
              "\n",
              "      <script>\n",
              "        const buttonEl =\n",
              "          document.querySelector('#df-9e8389b7-b50a-4a5e-8aee-8ce56e120cee button.colab-df-convert');\n",
              "        buttonEl.style.display =\n",
              "          google.colab.kernel.accessAllowed ? 'block' : 'none';\n",
              "\n",
              "        async function convertToInteractive(key) {\n",
              "          const element = document.querySelector('#df-9e8389b7-b50a-4a5e-8aee-8ce56e120cee');\n",
              "          const dataTable =\n",
              "            await google.colab.kernel.invokeFunction('convertToInteractive',\n",
              "                                                     [key], {});\n",
              "          if (!dataTable) return;\n",
              "\n",
              "          const docLinkHtml = 'Like what you see? Visit the ' +\n",
              "            '<a target=\"_blank\" href=https://colab.research.google.com/notebooks/data_table.ipynb>data table notebook</a>'\n",
              "            + ' to learn more about interactive tables.';\n",
              "          element.innerHTML = '';\n",
              "          dataTable['output_type'] = 'display_data';\n",
              "          await google.colab.output.renderOutput(dataTable, element);\n",
              "          const docLink = document.createElement('div');\n",
              "          docLink.innerHTML = docLinkHtml;\n",
              "          element.appendChild(docLink);\n",
              "        }\n",
              "      </script>\n",
              "    </div>\n",
              "  </div>\n",
              "  "
            ]
          },
          "metadata": {},
          "execution_count": 59
        }
      ]
    },
    {
      "cell_type": "markdown",
      "source": [
        "Tipe Data Numpy Array"
      ],
      "metadata": {
        "id": "jsM0ucsurU20"
      }
    },
    {
      "cell_type": "code",
      "source": [
        "tulisan = df_new['Text'].values\n",
        "label = df_new[['anger', 'fear', 'happy', 'love', 'sadness', 'surprise']].values"
      ],
      "metadata": {
        "id": "YNJTWkzorRtb"
      },
      "execution_count": null,
      "outputs": []
    },
    {
      "cell_type": "code",
      "source": [
        "tulisan"
      ],
      "metadata": {
        "colab": {
          "base_uri": "https://localhost:8080/"
        },
        "id": "hWKwfHYGsBdy",
        "outputId": "ad229fc1-0e61-4eff-ed6d-a5f3f84cd785"
      },
      "execution_count": null,
      "outputs": [
        {
          "output_type": "execute_result",
          "data": {
            "text/plain": [
              "array(['i didnt feel humiliated',\n",
              "       'i can go from feeling so hopeless to so damned hopeful just from being around someone who cares and is awake',\n",
              "       'im grabbing a minute to post i feel greedy wrong', ...,\n",
              "       'Vincent was irritated but not dismay',\n",
              "       'Kendall-Hume turned back to face the dismayed coup',\n",
              "       'I am dismayed , but not surpris'], dtype=object)"
            ]
          },
          "metadata": {},
          "execution_count": 61
        }
      ]
    },
    {
      "cell_type": "code",
      "source": [
        "label"
      ],
      "metadata": {
        "colab": {
          "base_uri": "https://localhost:8080/"
        },
        "id": "uRApeW5xsEAJ",
        "outputId": "93309798-f8ef-425e-e312-264690a6b0d1"
      },
      "execution_count": null,
      "outputs": [
        {
          "output_type": "execute_result",
          "data": {
            "text/plain": [
              "array([[0, 0, 0, 0, 1, 0],\n",
              "       [0, 0, 0, 0, 1, 0],\n",
              "       [1, 0, 0, 0, 0, 0],\n",
              "       ...,\n",
              "       [0, 1, 0, 0, 0, 0],\n",
              "       [0, 1, 0, 0, 0, 0],\n",
              "       [0, 1, 0, 0, 0, 0]], dtype=uint8)"
            ]
          },
          "metadata": {},
          "execution_count": 62
        }
      ]
    },
    {
      "cell_type": "markdown",
      "source": [
        "Training dan Testing Data"
      ],
      "metadata": {
        "id": "hFPw_N6LsekN"
      }
    },
    {
      "cell_type": "code",
      "source": [
        "from sklearn.model_selection import train_test_split\n",
        "tulisan_latih, tulisan_test, label_latih, label_test = train_test_split(tulisan, label, test_size=0.2)"
      ],
      "metadata": {
        "id": "QaiG7jVLsGHv"
      },
      "execution_count": null,
      "outputs": []
    },
    {
      "cell_type": "markdown",
      "source": [
        "Tokenizer dan konversi menjadi sequence"
      ],
      "metadata": {
        "id": "mrKBvE7vukqJ"
      }
    },
    {
      "cell_type": "code",
      "source": [
        "from tensorflow.keras.preprocessing.text import Tokenizer\n",
        "from tensorflow.keras.preprocessing.sequence import pad_sequences\n",
        "\n",
        "tokenizer = Tokenizer(num_words=5000, oov_token='x')\n",
        "tokenizer.fit_on_texts(tulisan_latih)\n",
        "tokenizer.fit_on_texts(tulisan_test)\n",
        "\n",
        "sekuens_latih = tokenizer.texts_to_sequences(tulisan_latih)\n",
        "sekuens_test = tokenizer.texts_to_sequences(tulisan_test)\n",
        "\n",
        "padded_latih = pad_sequences(sekuens_latih)\n",
        "padded_test = pad_sequences(sekuens_test)"
      ],
      "metadata": {
        "id": "T1VpXJkrugFG"
      },
      "execution_count": null,
      "outputs": []
    },
    {
      "cell_type": "markdown",
      "source": [
        "Embedding"
      ],
      "metadata": {
        "id": "58N560cdvt9q"
      }
    },
    {
      "cell_type": "code",
      "source": [
        "import tensorflow as tf\n",
        "model = tf.keras.Sequential([\n",
        "    tf.keras.layers.Embedding(input_dim=5000, output_dim=16),\n",
        "    tf.keras.layers.LSTM(64),\n",
        "    tf.keras.layers.Dense(128, activation='relu'),\n",
        "    tf.keras.layers.Dense(64, activation='relu'),\n",
        "    tf.keras.layers.Dropout(0.5),\n",
        "    tf.keras.layers.Dense(6, activation='softmax')\n",
        "])\n",
        "\n",
        "model.compile(loss='categorical_crossentropy',optimizer='rmsprop',metrics=['acc'])"
      ],
      "metadata": {
        "id": "nVJTh4VIvvh4"
      },
      "execution_count": null,
      "outputs": []
    },
    {
      "cell_type": "code",
      "source": [
        "model.summary()"
      ],
      "metadata": {
        "colab": {
          "base_uri": "https://localhost:8080/"
        },
        "id": "AgeMUf8Gw_Bd",
        "outputId": "45de2bd0-e942-4f65-a97f-22151cba3c53"
      },
      "execution_count": null,
      "outputs": [
        {
          "output_type": "stream",
          "name": "stdout",
          "text": [
            "Model: \"sequential_2\"\n",
            "_________________________________________________________________\n",
            " Layer (type)                Output Shape              Param #   \n",
            "=================================================================\n",
            " embedding_2 (Embedding)     (None, None, 16)          80000     \n",
            "                                                                 \n",
            " lstm_2 (LSTM)               (None, 64)                20736     \n",
            "                                                                 \n",
            " dense_6 (Dense)             (None, 128)               8320      \n",
            "                                                                 \n",
            " dense_7 (Dense)             (None, 64)                8256      \n",
            "                                                                 \n",
            " dropout_2 (Dropout)         (None, 64)                0         \n",
            "                                                                 \n",
            " dense_8 (Dense)             (None, 6)                 390       \n",
            "                                                                 \n",
            "=================================================================\n",
            "Total params: 117,702\n",
            "Trainable params: 117,702\n",
            "Non-trainable params: 0\n",
            "_________________________________________________________________\n"
          ]
        }
      ]
    },
    {
      "cell_type": "markdown",
      "source": [
        "Callbacks"
      ],
      "metadata": {
        "id": "ss9uYkaXygs2"
      }
    },
    {
      "cell_type": "code",
      "source": [
        "class myCallback(tf.keras.callbacks.Callback):\n",
        "  def on_epoch_end(self, epoch, logs={}):\n",
        "    if(logs.get('acc') > 0.9):\n",
        "      print(\"\\nAkurasi lebih dari 90%\")\n",
        "      self.model.stop_trainging = True\n",
        "\n",
        "callbacks = myCallback()"
      ],
      "metadata": {
        "id": "AzxrQYmRxH35"
      },
      "execution_count": null,
      "outputs": []
    },
    {
      "cell_type": "markdown",
      "source": [
        "Fit model"
      ],
      "metadata": {
        "id": "pwsnGEoe-Vwn"
      }
    },
    {
      "cell_type": "code",
      "source": [
        "num_epochs = 30\n",
        "history = model.fit(padded_latih, label_latih, epochs=num_epochs,\n",
        "                    validation_data=(padded_test, label_test), verbose=1, validation_steps=25,\n",
        "callbacks=[callbacks])"
      ],
      "metadata": {
        "colab": {
          "base_uri": "https://localhost:8080/"
        },
        "id": "l7HjU1uFye2V",
        "outputId": "766f0515-de75-41c5-a6f0-c652c14dfa07"
      },
      "execution_count": null,
      "outputs": [
        {
          "output_type": "stream",
          "name": "stdout",
          "text": [
            "Epoch 1/30\n",
            "537/537 [==============================] - 6s 8ms/step - loss: 1.4785 - acc: 0.3531 - val_loss: 1.2112 - val_acc: 0.4271\n",
            "Epoch 2/30\n",
            "537/537 [==============================] - 4s 8ms/step - loss: 1.1149 - acc: 0.5224 - val_loss: 1.0639 - val_acc: 0.5881\n",
            "Epoch 3/30\n",
            "537/537 [==============================] - 4s 7ms/step - loss: 0.9000 - acc: 0.6574 - val_loss: 0.8191 - val_acc: 0.7197\n",
            "Epoch 4/30\n",
            "537/537 [==============================] - 4s 7ms/step - loss: 0.7373 - acc: 0.7405 - val_loss: 0.6879 - val_acc: 0.7682\n",
            "Epoch 5/30\n",
            "537/537 [==============================] - 4s 7ms/step - loss: 0.6055 - acc: 0.7997 - val_loss: 0.5891 - val_acc: 0.8089\n",
            "Epoch 6/30\n",
            "537/537 [==============================] - 4s 7ms/step - loss: 0.5112 - acc: 0.8322 - val_loss: 0.4916 - val_acc: 0.8320\n",
            "Epoch 7/30\n",
            "537/537 [==============================] - 4s 7ms/step - loss: 0.4323 - acc: 0.8621 - val_loss: 0.4706 - val_acc: 0.8462\n",
            "Epoch 8/30\n",
            "537/537 [==============================] - 4s 7ms/step - loss: 0.3737 - acc: 0.8841 - val_loss: 0.4636 - val_acc: 0.8686\n",
            "Epoch 9/30\n",
            "535/537 [============================>.] - ETA: 0s - loss: 0.3278 - acc: 0.9003\n",
            "Akurasi lebih dari 90%\n",
            "537/537 [==============================] - 4s 7ms/step - loss: 0.3281 - acc: 0.9001 - val_loss: 0.4132 - val_acc: 0.8774\n",
            "Epoch 10/30\n",
            "535/537 [============================>.] - ETA: 0s - loss: 0.2861 - acc: 0.9086\n",
            "Akurasi lebih dari 90%\n",
            "537/537 [==============================] - 4s 7ms/step - loss: 0.2857 - acc: 0.9088 - val_loss: 0.3873 - val_acc: 0.8691\n",
            "Epoch 11/30\n",
            "533/537 [============================>.] - ETA: 0s - loss: 0.2575 - acc: 0.9177\n",
            "Akurasi lebih dari 90%\n",
            "537/537 [==============================] - 4s 7ms/step - loss: 0.2582 - acc: 0.9176 - val_loss: 0.3650 - val_acc: 0.8849\n",
            "Epoch 12/30\n",
            "536/537 [============================>.] - ETA: 0s - loss: 0.2325 - acc: 0.9244\n",
            "Akurasi lebih dari 90%\n",
            "537/537 [==============================] - 4s 7ms/step - loss: 0.2326 - acc: 0.9244 - val_loss: 0.3672 - val_acc: 0.8949\n",
            "Epoch 13/30\n",
            "532/537 [============================>.] - ETA: 0s - loss: 0.2078 - acc: 0.9331\n",
            "Akurasi lebih dari 90%\n",
            "537/537 [==============================] - 4s 7ms/step - loss: 0.2079 - acc: 0.9332 - val_loss: 0.3582 - val_acc: 0.9033\n",
            "Epoch 14/30\n",
            "537/537 [==============================] - ETA: 0s - loss: 0.1882 - acc: 0.9387\n",
            "Akurasi lebih dari 90%\n",
            "537/537 [==============================] - 4s 7ms/step - loss: 0.1882 - acc: 0.9387 - val_loss: 0.3375 - val_acc: 0.9059\n",
            "Epoch 15/30\n",
            "532/537 [============================>.] - ETA: 0s - loss: 0.1757 - acc: 0.9415\n",
            "Akurasi lebih dari 90%\n",
            "537/537 [==============================] - 4s 7ms/step - loss: 0.1754 - acc: 0.9416 - val_loss: 0.3936 - val_acc: 0.9028\n",
            "Epoch 16/30\n",
            "531/537 [============================>.] - ETA: 0s - loss: 0.1619 - acc: 0.9481\n",
            "Akurasi lebih dari 90%\n",
            "537/537 [==============================] - 4s 7ms/step - loss: 0.1616 - acc: 0.9480 - val_loss: 0.3868 - val_acc: 0.9124\n",
            "Epoch 17/30\n",
            "534/537 [============================>.] - ETA: 0s - loss: 0.1467 - acc: 0.9504\n",
            "Akurasi lebih dari 90%\n",
            "537/537 [==============================] - 4s 7ms/step - loss: 0.1471 - acc: 0.9502 - val_loss: 0.4240 - val_acc: 0.9089\n",
            "Epoch 18/30\n",
            "531/537 [============================>.] - ETA: 0s - loss: 0.1401 - acc: 0.9553\n",
            "Akurasi lebih dari 90%\n",
            "537/537 [==============================] - 4s 7ms/step - loss: 0.1398 - acc: 0.9554 - val_loss: 0.4370 - val_acc: 0.9112\n",
            "Epoch 19/30\n",
            "537/537 [==============================] - ETA: 0s - loss: 0.1313 - acc: 0.9556\n",
            "Akurasi lebih dari 90%\n",
            "537/537 [==============================] - 4s 7ms/step - loss: 0.1313 - acc: 0.9556 - val_loss: 0.4298 - val_acc: 0.9096\n",
            "Epoch 20/30\n",
            "534/537 [============================>.] - ETA: 0s - loss: 0.1218 - acc: 0.9595\n",
            "Akurasi lebih dari 90%\n",
            "537/537 [==============================] - 4s 7ms/step - loss: 0.1225 - acc: 0.9596 - val_loss: 0.4188 - val_acc: 0.9014\n",
            "Epoch 21/30\n",
            "530/537 [============================>.] - ETA: 0s - loss: 0.1119 - acc: 0.9635\n",
            "Akurasi lebih dari 90%\n",
            "537/537 [==============================] - 4s 7ms/step - loss: 0.1133 - acc: 0.9635 - val_loss: 0.5050 - val_acc: 0.9040\n",
            "Epoch 22/30\n",
            "536/537 [============================>.] - ETA: 0s - loss: 0.1162 - acc: 0.9654\n",
            "Akurasi lebih dari 90%\n",
            "537/537 [==============================] - 4s 7ms/step - loss: 0.1162 - acc: 0.9654 - val_loss: 0.4012 - val_acc: 0.9038\n",
            "Epoch 23/30\n",
            "536/537 [============================>.] - ETA: 0s - loss: 0.1049 - acc: 0.9671\n",
            "Akurasi lebih dari 90%\n",
            "537/537 [==============================] - 4s 7ms/step - loss: 0.1050 - acc: 0.9670 - val_loss: 0.4693 - val_acc: 0.9178\n",
            "Epoch 24/30\n",
            "532/537 [============================>.] - ETA: 0s - loss: 0.1025 - acc: 0.9680\n",
            "Akurasi lebih dari 90%\n",
            "537/537 [==============================] - 4s 7ms/step - loss: 0.1021 - acc: 0.9680 - val_loss: 0.4414 - val_acc: 0.9138\n",
            "Epoch 25/30\n",
            "537/537 [==============================] - ETA: 0s - loss: 0.0930 - acc: 0.9705\n",
            "Akurasi lebih dari 90%\n",
            "537/537 [==============================] - 4s 7ms/step - loss: 0.0930 - acc: 0.9705 - val_loss: 0.4722 - val_acc: 0.8926\n",
            "Epoch 26/30\n",
            "536/537 [============================>.] - ETA: 0s - loss: 0.0905 - acc: 0.9712\n",
            "Akurasi lebih dari 90%\n",
            "537/537 [==============================] - 4s 7ms/step - loss: 0.0905 - acc: 0.9712 - val_loss: 0.5559 - val_acc: 0.9159\n",
            "Epoch 27/30\n",
            "535/537 [============================>.] - ETA: 0s - loss: 0.0882 - acc: 0.9728\n",
            "Akurasi lebih dari 90%\n",
            "537/537 [==============================] - 4s 7ms/step - loss: 0.0883 - acc: 0.9727 - val_loss: 0.4213 - val_acc: 0.9087\n",
            "Epoch 28/30\n",
            "533/537 [============================>.] - ETA: 0s - loss: 0.0837 - acc: 0.9731\n",
            "Akurasi lebih dari 90%\n",
            "537/537 [==============================] - 4s 7ms/step - loss: 0.0837 - acc: 0.9731 - val_loss: 0.5430 - val_acc: 0.9096\n",
            "Epoch 29/30\n",
            "534/537 [============================>.] - ETA: 0s - loss: 0.0791 - acc: 0.9749\n",
            "Akurasi lebih dari 90%\n",
            "537/537 [==============================] - 4s 7ms/step - loss: 0.0788 - acc: 0.9750 - val_loss: 0.6199 - val_acc: 0.9150\n",
            "Epoch 30/30\n",
            "537/537 [==============================] - ETA: 0s - loss: 0.0756 - acc: 0.9765\n",
            "Akurasi lebih dari 90%\n",
            "537/537 [==============================] - 4s 7ms/step - loss: 0.0756 - acc: 0.9765 - val_loss: 0.7492 - val_acc: 0.9122\n"
          ]
        }
      ]
    },
    {
      "cell_type": "markdown",
      "source": [
        "Model Accuracy"
      ],
      "metadata": {
        "id": "yCM9O-1e-K4G"
      }
    },
    {
      "cell_type": "code",
      "source": [
        "from matplotlib import pyplot as plt\n",
        "plt.plot(history.history['acc'])\n",
        "plt.plot(history.history['val_acc'])\n",
        "plt.title('Accuracy Plot')\n",
        "plt.ylabel('Accuracy')\n",
        "plt.xlabel('Epoch')\n",
        "plt.legend(['Train', 'Test'], loc='upper left')\n",
        "plt.show()"
      ],
      "metadata": {
        "colab": {
          "base_uri": "https://localhost:8080/",
          "height": 295
        },
        "id": "XkCH-XVp7wFZ",
        "outputId": "fc1b035f-6a40-46ed-a79a-8b09980eb386"
      },
      "execution_count": null,
      "outputs": [
        {
          "output_type": "display_data",
          "data": {
            "text/plain": [
              "<Figure size 432x288 with 1 Axes>"
            ],
            "image/png": "[encoded data removed]"
          },
          "metadata": {
            "needs_background": "light"
          }
        }
      ]
    },
    {
      "cell_type": "markdown",
      "source": [
        "Model Loss"
      ],
      "metadata": {
        "id": "6xqf6JsB-PSu"
      }
    },
    {
      "cell_type": "code",
      "source": [
        "plt.plot(history.history['loss'])\n",
        "plt.plot(history.history['val_loss'])\n",
        "plt.title('Loss Plot')\n",
        "plt.ylabel('Loss')\n",
        "plt.xlabel('Epoch')\n",
        "plt.legend(['Train', 'Test'], loc='upper right')\n",
        "plt.show()"
      ],
      "metadata": {
        "colab": {
          "base_uri": "https://localhost:8080/",
          "height": 295
        },
        "id": "TW7dGPu68sLt",
        "outputId": "9e7a4010-434b-43b6-d391-93f03ef2a4cc"
      },
      "execution_count": null,
      "outputs": [
        {
          "output_type": "display_data",
          "data": {
            "text/plain": [
              "<Figure size 432x288 with 1 Axes>"
            ],
            "image/png": "[encoded data removed]"
          },
          "metadata": {
            "needs_background": "light"
          }
        }
      ]
    }
  ]
}